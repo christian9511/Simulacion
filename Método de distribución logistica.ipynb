{
 "cells": [
  {
   "cell_type": "markdown",
   "metadata": {},
   "source": [
    "# Distribucion Logistica con inversion"
   ]
  },
  {
   "cell_type": "markdown",
   "metadata": {},
   "source": [
    "Metodo congruencial:"
   ]
  },
  {
   "cell_type": "code",
   "execution_count": 70,
   "metadata": {
    "collapsed": true
   },
   "outputs": [],
   "source": [
    "%matplotlib inline\n",
    "import matplotlib.mlab as mlab\n",
    "import matplotlib.pyplot as plt\n",
    "import numpy as np\n",
    "import math\n",
    "\n",
    "#n=1000 #numeros aleatorias generados\n",
    "\n",
    "def congruencial(x0):\n",
    "    a = 1664525\n",
    "    b = 1013904223\n",
    "    m = 2**32\n",
    "    xi = x0\n",
    "    ui =0\n",
    "    xi = (a*xi + b)%(m)\n",
    "    ui = float(xi)/float(m)\n",
    "\n",
    "    return ui,xi\n",
    "#funcion=congruencial(n)\n",
    "#fcx=[] #se declara X\n",
    "#for i in range(n):\n",
    " #   for j in range(len(var)-1):\n",
    "        #if funcion[i]<=dpax[j]:\n",
    "           #fcx.append(var[j])\n",
    "            #break"
   ]
  },
  {
   "cell_type": "markdown",
   "metadata": {},
   "source": [
    "La distribucion logistica:"
   ]
  },
  {
   "cell_type": "code",
   "execution_count": 71,
   "metadata": {
    "collapsed": true
   },
   "outputs": [],
   "source": [
    "def distLogistica(itera,u,s,semilla):\n",
    "    x0=semilla\n",
    "    x=[]\n",
    "    for i in range(itera):\n",
    "        p,x0=congruencial(x0)\n",
    "        prov=u+s*math.log(p/(1-p)) \n",
    "        x.append(prov)\n",
    "    return x"
   ]
  },
  {
   "cell_type": "markdown",
   "metadata": {},
   "source": [
    "Logistica teorica:"
   ]
  },
  {
   "cell_type": "code",
   "execution_count": 72,
   "metadata": {
    "collapsed": true
   },
   "outputs": [],
   "source": [
    "def logTeorico(k,u,s):\n",
    "    logisticoTeoricoX=[]\n",
    "    logisticoTeoricoY=[]\n",
    "    k0=-u*200\n",
    "    k=k*100\n",
    "    for i in range(k0,k):\n",
    "        x = float(float(i)/100.0)\n",
    "        expon=(math.exp(-(x-u)/2))\n",
    "        numeroY=expon/(s*((1+expon)**2))\n",
    "        logisticoTeoricoY.append(numeroY)\n",
    "        logisticoTeoricoX.append(x)\n",
    "        \n",
    "    return logisticoTeoricoX,logisticoTeoricoY"
   ]
  },
  {
   "cell_type": "markdown",
   "metadata": {},
   "source": [
    "Graficar...."
   ]
  },
  {
   "cell_type": "code",
   "execution_count": 73,
   "metadata": {
    "collapsed": false
   },
   "outputs": [
    {
     "data": {
      "image/png": "[encoded data removed]",
      "text/plain": [
       "<matplotlib.figure.Figure at 0x74fe6d8>"
      ]
     },
     "metadata": {},
     "output_type": "display_data"
    }
   ],
   "source": [
    "itera=1000\n",
    "u=9\n",
    "s=5\n",
    "k=22\n",
    "semilla=10\n",
    "\n",
    "ax = plt.gca()\n",
    "distLogistica = distLogistica(itera,u,s,semilla)\n",
    "logisticoTeoricoX,logisticoTeoricoY = logTeorico(k,u,s)\n",
    "count, bins, ignored = plt.hist(distLogistica, 25, normed=True,color = 'green')\n",
    "ax.plot(logisticoTeoricoX,logisticoTeoricoY,'red',linewidth=2.5)\n",
    "plt.show()"
   ]
  },
  {
   "cell_type": "code",
   "execution_count": null,
   "metadata": {
    "collapsed": true
   },
   "outputs": [],
   "source": []
  }
 ],
 "metadata": {
  "anaconda-cloud": {},
  "kernelspec": {
   "display_name": "Python [Root]",
   "language": "python",
   "name": "Python [Root]"
  },
  "language_info": {
   "codemirror_mode": {
    "name": "ipython",
    "version": 2
   },
   "file_extension": ".py",
   "mimetype": "text/x-python",
   "name": "python",
   "nbconvert_exporter": "python",
   "pygments_lexer": "ipython2",
   "version": "2.7.12"
  }
 },
 "nbformat": 4,
 "nbformat_minor": 0
}
