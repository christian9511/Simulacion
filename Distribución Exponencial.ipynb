{
 "cells": [
  {
   "cell_type": "markdown",
   "metadata": {},
   "source": [
    "# Variables continuas (Distribucion Exponencial)"
   ]
  },
  {
   "cell_type": "code",
   "execution_count": 27,
   "metadata": {
    "collapsed": false
   },
   "outputs": [],
   "source": [
    "%matplotlib inline\n",
    "import matplotlib.mlab as mlab\n",
    "import matplotlib.pyplot as plt\n",
    "import numpy as np\n",
    "import math\n",
    "\n",
    "n=1000 #numeros aleatorias generados\n",
    "\n",
    "def congruencial(x0):\n",
    "    a = 1664525\n",
    "    b = 1013904223\n",
    "    m = 2**32\n",
    "    xi = x0\n",
    "    ui =0\n",
    "    xi = (a*xi + b)%(m)\n",
    "    ui = float(xi)/float(m)\n",
    "\n",
    "    return ui,xi\n",
    "#funcion=congruencial(n)\n",
    "#fcx=[] #se declara X\n",
    "#for i in range(n):\n",
    " #   for j in range(len(var)-1):\n",
    "        #if funcion[i]<=dpax[j]:\n",
    "           #fcx.append(var[j])\n",
    "            #break"
   ]
  },
  {
   "cell_type": "markdown",
   "metadata": {
    "collapsed": true
   },
   "source": [
    "Distribucion Exponencial"
   ]
  },
  {
   "cell_type": "code",
   "execution_count": 47,
   "metadata": {
    "collapsed": true
   },
   "outputs": [],
   "source": [
    "def expon(iteraciones,landa,semilla):\n",
    "    x0 = semilla\n",
    "    expon = []\n",
    "    for i in range(iteraciones):\n",
    "        ui,x0 = congruencial(x0)\n",
    "        ex = (-math.log(1-ui))/landa\n",
    "        expon.append(ex)\n",
    "    return expon\n",
    "\n",
    "def exponencial(iteraciones,landa):\n",
    "    exponencialX=[]\n",
    "    exponencialY=[]\n",
    "    for i in range(iteraciones):\n",
    "        x = float(float(i)/100.0)\n",
    "        exponencialY.append(landa*math.exp(-landa*x))\n",
    "        exponencialX.append(x)\n",
    "    return exponencialX,exponencialY"
   ]
  },
  {
   "cell_type": "markdown",
   "metadata": {},
   "source": [
    "Graficar...."
   ]
  },
  {
   "cell_type": "code",
   "execution_count": 48,
   "metadata": {
    "collapsed": false
   },
   "outputs": [
    {
     "data": {
      "image/png": "[encoded data removed]",
      "text/plain": [
       "<matplotlib.figure.Figure at 0x7f29ba8>"
      ]
     },
     "metadata": {},
     "output_type": "display_data"
    }
   ],
   "source": [
    "iteraciones = 100000\n",
    "landa=20\n",
    "semilla=25\n",
    "\n",
    "ax=plt.gca()\n",
    "expon=expon(iteraciones,landa,semilla)\n",
    "exponencialX,exponencialY = exponencial(100,landa)\n",
    "\n",
    "count, bins, ignored=plt.hist(expon, 40, normed=True)\n",
    "ax.plot(exponencialX,exponencialY,'black')\n",
    "plt.show()"
   ]
  },
  {
   "cell_type": "code",
   "execution_count": null,
   "metadata": {
    "collapsed": true
   },
   "outputs": [],
   "source": []
  }
 ],
 "metadata": {
  "anaconda-cloud": {},
  "kernelspec": {
   "display_name": "Python [Root]",
   "language": "python",
   "name": "Python [Root]"
  },
  "language_info": {
   "codemirror_mode": {
    "name": "ipython",
    "version": 2
   },
   "file_extension": ".py",
   "mimetype": "text/x-python",
   "name": "python",
   "nbconvert_exporter": "python",
   "pygments_lexer": "ipython2",
   "version": "2.7.12"
  }
 },
 "nbformat": 4,
 "nbformat_minor": 0
}
