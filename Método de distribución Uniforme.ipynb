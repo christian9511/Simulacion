{
 "cells": [
  {
   "cell_type": "markdown",
   "metadata": {},
   "source": [
    "# Distribucion Uniforme con inversion"
   ]
  },
  {
   "cell_type": "markdown",
   "metadata": {},
   "source": [
    "Metodo congruencial:"
   ]
  },
  {
   "cell_type": "code",
   "execution_count": 79,
   "metadata": {
    "collapsed": true
   },
   "outputs": [],
   "source": [
    "%matplotlib inline\n",
    "import matplotlib.mlab as mlab\n",
    "import matplotlib.pyplot as plt\n",
    "import numpy as np\n",
    "import math\n",
    "\n",
    "#n=1000 #numeros aleatorias generados\n",
    "\n",
    "def congruencial(x0):\n",
    "    a = 1664525\n",
    "    b = 1013904223\n",
    "    m = 2**32\n",
    "    xi = x0\n",
    "    ui = 0\n",
    "    xi = (a*xi + b)%(m)\n",
    "    ui = float(xi)/float(m)\n",
    "\n",
    "    return ui,xi\n",
    "#funcion=congruencial(n)\n",
    "#fcx=[] #se declara X\n",
    "#for i in range(n):\n",
    " #   for j in range(len(var)-1):\n",
    "        #if funcion[i]<=dpax[j]:\n",
    "           #fcx.append(var[j])\n",
    "            #break"
   ]
  },
  {
   "cell_type": "markdown",
   "metadata": {},
   "source": [
    "Distribucion Uniforme"
   ]
  },
  {
   "cell_type": "code",
   "execution_count": 80,
   "metadata": {
    "collapsed": true
   },
   "outputs": [],
   "source": [
    "def distUniforme(itera,a,b,semilla):\n",
    "    x0=semilla\n",
    "    x=[]\n",
    "    for i in range(itera):\n",
    "        ui,x0=congruencial(x0)\n",
    "        uni=a+ui*(b-a) \n",
    "        x.append(uni)\n",
    "    return x"
   ]
  },
  {
   "cell_type": "markdown",
   "metadata": {},
   "source": [
    "Uniforme Teorico:"
   ]
  },
  {
   "cell_type": "code",
   "execution_count": 81,
   "metadata": {
    "collapsed": true
   },
   "outputs": [],
   "source": [
    "def unifTeorico(itera,a,b):\n",
    "    uniformeTeoricoX=[]\n",
    "    uniformeTeoricoY=[]\n",
    "    b=b+1\n",
    "    tam=3\n",
    "    \n",
    "    for i in range(tam):\n",
    "        uniformeTeoricoY.append(0)\n",
    "        uniformeTeoricoX.append(a-2+i)\n",
    "    for i in range(a,b):\n",
    "        x=i\n",
    "        uniformeTeoricoY.append(1/(b-a))\n",
    "        uniformeTeoricoX.append(x)\n",
    "    for i in range(tam):\n",
    "        uniformeTeoricoY.append(0)\n",
    "        uniformeTeoricoX.append(b-1+i)\n",
    "        \n",
    "    return uniformeTeoricoX, uniformeTeoricoY"
   ]
  },
  {
   "cell_type": "markdown",
   "metadata": {},
   "source": [
    "Graficar....."
   ]
  },
  {
   "cell_type": "code",
   "execution_count": 82,
   "metadata": {
    "collapsed": false
   },
   "outputs": [
    {
     "data": {
      "image/png": "[encoded data removed]",
      "text/plain": [
       "<matplotlib.figure.Figure at 0x6759c88>"
      ]
     },
     "metadata": {},
     "output_type": "display_data"
    }
   ],
   "source": [
    "itera=1000\n",
    "a=9\n",
    "b=5\n",
    "semilla=20\n",
    "\n",
    "ax=plt.gca()\n",
    "distUniforme=distUniforme(itera,a,b,semilla)\n",
    "uniformeTeoricoX, uniformeTeoricoY= unifTeorico(200,a,b)\n",
    "count, bins, ignored = plt.hist(distUniforme, 30, normed=True,color = 'blue')\n",
    "ax.plot(uniformeTeoricoX,uniformeTeoricoY,'red',linewidth=3.0)\n",
    "plt.show()"
   ]
  },
  {
   "cell_type": "code",
   "execution_count": null,
   "metadata": {
    "collapsed": true
   },
   "outputs": [],
   "source": []
  }
 ],
 "metadata": {
  "kernelspec": {
   "display_name": "Python [Root]",
   "language": "python",
   "name": "Python [Root]"
  },
  "language_info": {
   "codemirror_mode": {
    "name": "ipython",
    "version": 2
   },
   "file_extension": ".py",
   "mimetype": "text/x-python",
   "name": "python",
   "nbconvert_exporter": "python",
   "pygments_lexer": "ipython2",
   "version": "2.7.12"
  }
 },
 "nbformat": 4,
 "nbformat_minor": 0
}
