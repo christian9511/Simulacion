{
 "cells": [
  {
   "cell_type": "markdown",
   "metadata": {},
   "source": [
    "# Implementacion del metodo de simulacion MonteCarlo"
   ]
  },
  {
   "cell_type": "raw",
   "metadata": {},
   "source": [
    "Se usa para modelar fenó menos probabilísticos que no dependen del tiempo o para evaluar expresiones no-probabilísticas con métodos probabilísticos."
   ]
  },
  {
   "cell_type": "code",
   "execution_count": 98,
   "metadata": {
    "collapsed": true
   },
   "outputs": [],
   "source": [
    "%matplotlib inline\n",
    "import matplotlib.pyplot as plt\n",
    "import numpy as np\n",
    "\n",
    "def congruencial(x0,N):\n",
    "    a=391823\n",
    "    b=1\n",
    "    m=2**32\n",
    "    Aux=np.arange(0,N,dtype=np.float)\n",
    "    aux=0;\n",
    "    for i in range(0,N):\n",
    "        x=((a*x0)+b)%m\n",
    "        x0=x\n",
    "        u=x/m\n",
    "        Aux[i]=u\n",
    "    return Aux"
   ]
  },
  {
   "cell_type": "raw",
   "metadata": {},
   "source": [
    "Metodo montercalo:"
   ]
  },
  {
   "cell_type": "code",
   "execution_count": 99,
   "metadata": {
    "collapsed": true
   },
   "outputs": [],
   "source": [
    "def MetodoMontecarlo(N):\n",
    "    aleatorio = congruencial(986572,N)\n",
    "    suma=0\n",
    "    resultado=0\n",
    "    y=0\n",
    "    z=0\n",
    "    for i in range(0,N):\n",
    "        y=2*aleatorio[i]\n",
    "        z=2*np.exp(-(y*y))\n",
    "        suma=suma+z\n",
    "    resu=suma/N\n",
    "    print(\"Resultado del metodo Montecarlo\")\n",
    "    print(resultado)\n",
    "    return resultado"
   ]
  },
  {
   "cell_type": "raw",
   "metadata": {},
   "source": [
    "Metodo numerico Trapecio: Es un método para calcular aproximadamente el valor de una integral definida. La regla se basa en aproximar el valor de la integral de f(x) por el de la función lineal"
   ]
  },
  {
   "cell_type": "code",
   "execution_count": 100,
   "metadata": {
    "collapsed": true
   },
   "outputs": [],
   "source": [
    "def MetodoTrapecio(N):\n",
    "    c=0\n",
    "    d=N\n",
    "    suma=0\n",
    "    while(d<=2):\n",
    "        fmenor=np.exp(-d*d)\n",
    "        tmayor=(np.exp(-c*c)-fmenor)*N/2\n",
    "        suma=suma+tmayor+fmenor*N\n",
    "        c=d\n",
    "        d=d+N\n",
    "    print(\"Resultado metodo del Trapecio\")\n",
    "    print(suma)\n",
    "    return suma"
   ]
  },
  {
   "cell_type": "raw",
   "metadata": {},
   "source": [
    "Ahora pasamos a comprar los dos metodos y analiticamente se mira el resultado obtenido:"
   ]
  },
  {
   "cell_type": "code",
   "execution_count": 107,
   "metadata": {
    "collapsed": false
   },
   "outputs": [],
   "source": [
    "def MetodoCompara():\n",
    "    m=MetodoMontecarlo(10000)\n",
    "    t=MetodoTrapecio(0.1)\n",
    "    print(\"La diferencia es: \")\n",
    "    print(np.abs(m-t))"
   ]
  },
  {
   "cell_type": "code",
   "execution_count": 108,
   "metadata": {
    "collapsed": false
   },
   "outputs": [
    {
     "name": "stdout",
     "output_type": "stream",
     "text": [
      "Resultado del metodo Montecarlo\n",
      "0\n",
      "Resultado metodo del Trapecio\n",
      "0.879752066108\n",
      "La diferencia es: \n",
      "0.879752066108\n"
     ]
    }
   ],
   "source": [
    "MetodoCompara()"
   ]
  }
 ],
 "metadata": {
  "kernelspec": {
   "display_name": "Python [Root]",
   "language": "python",
   "name": "Python [Root]"
  },
  "language_info": {
   "codemirror_mode": {
    "name": "ipython",
    "version": 2
   },
   "file_extension": ".py",
   "mimetype": "text/x-python",
   "name": "python",
   "nbconvert_exporter": "python",
   "pygments_lexer": "ipython2",
   "version": "2.7.12"
  }
 },
 "nbformat": 4,
 "nbformat_minor": 0
}
