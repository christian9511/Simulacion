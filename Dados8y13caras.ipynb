{
 "cells": [
  {
   "cell_type": "markdown",
   "metadata": {
    "collapsed": true
   },
   "source": [
    "# Laboratorio Simulacion:\n",
    "En este laboratorio se va hallar la media y la varianza de los datos obtenidos en clase y realizar su respectiva grafica de distribucion con dos dados, uno de 8 y el otro de 13 caras:"
   ]
  },
  {
   "cell_type": "markdown",
   "metadata": {},
   "source": [
    "Procedemos hallar la media:"
   ]
  },
  {
   "cell_type": "code",
   "execution_count": 112,
   "metadata": {
    "collapsed": true
   },
   "outputs": [],
   "source": [
    "def sumar(vector):\n",
    "    total = 0\n",
    "    for x in vector:\n",
    "        \n",
    "        total += x\n",
    "    return total\n",
    "    \n",
    "def promedio(vector):\n",
    "    sum_vector = sumar(vector)\n",
    "    promedio = float(sum_vector) / len(vector)\n",
    "    return promedio"
   ]
  },
  {
   "cell_type": "markdown",
   "metadata": {},
   "source": [
    "Ahora la Varianza:"
   ]
  },
  {
   "cell_type": "code",
   "execution_count": 119,
   "metadata": {
    "collapsed": false
   },
   "outputs": [],
   "source": [
    "def varianaza(scores, promedio):\n",
    "    sumatorio = 0\n",
    "    for data in scores:\n",
    "        sumatorio += (promedio - float(data))**2\n",
    "    variance = float(sumatorio)/len(scores)\n",
    "    return variance"
   ]
  },
  {
   "cell_type": "markdown",
   "metadata": {},
   "source": [
    "Las posibles combinaciones:"
   ]
  },
  {
   "cell_type": "code",
   "execution_count": 121,
   "metadata": {
    "collapsed": false
   },
   "outputs": [],
   "source": [
    "def combinaciones(dado1,dado2):\n",
    "    aux = []\n",
    "    for x in range(1,dado1):\n",
    "        for y in range(1,dado2):\n",
    "            aux.append(x+y)\n",
    "    #print(aux)\n",
    "    return aux\n",
    "                    \n",
    "carasDado1 = 8 #escribimos \n",
    "carasDado2 = 13\n",
    "\n",
    "aux = combinaciones(carasDado1,carasDado2)"
   ]
  },
  {
   "cell_type": "markdown",
   "metadata": {},
   "source": [
    "Ahora nos disponemos a imprimir los resultados de la media y la varianza:"
   ]
  },
  {
   "cell_type": "code",
   "execution_count": 122,
   "metadata": {
    "collapsed": false,
    "scrolled": true
   },
   "outputs": [
    {
     "name": "stdout",
     "output_type": "stream",
     "text": [
      "mediana\n",
      "10.5\n",
      "varianza\n",
      "15.916666666666666\n"
     ]
    }
   ],
   "source": [
    "print('mediana')\n",
    "print(promedio)\n",
    "print('varianza')\n",
    "print(varianaza(aux,promedio))"
   ]
  },
  {
   "cell_type": "markdown",
   "metadata": {},
   "source": []
  },
  {
   "cell_type": "markdown",
   "metadata": {},
   "source": []
  },
  {
   "cell_type": "markdown",
   "metadata": {},
   "source": []
  },
  {
   "cell_type": "markdown",
   "metadata": {},
   "source": []
  }
 ],
 "metadata": {
  "anaconda-cloud": {},
  "kernelspec": {
   "display_name": "Python [Root]",
   "language": "python",
   "name": "Python [Root]"
  },
  "language_info": {
   "codemirror_mode": {
    "name": "ipython",
    "version": 3
   },
   "file_extension": ".py",
   "mimetype": "text/x-python",
   "name": "python",
   "nbconvert_exporter": "python",
   "pygments_lexer": "ipython3",
   "version": "3.5.2"
  }
 },
 "nbformat": 4,
 "nbformat_minor": 0
}
