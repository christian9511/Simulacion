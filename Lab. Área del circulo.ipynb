{
 "cells": [
  {
   "cell_type": "markdown",
   "metadata": {},
   "source": [
    "# Laboratorio Area del Circulo"
   ]
  },
  {
   "cell_type": "code",
   "execution_count": 4,
   "metadata": {
    "collapsed": false
   },
   "outputs": [
    {
     "name": "stdout",
     "output_type": "stream",
     "text": [
      "Numero de puntos: 7848\n",
      "Area experimental: 7848\n",
      "Area experimental: 706.32\n",
      "Area teorica: 706.858347058\n",
      "Dibujando el circulo, espere.....\n"
     ]
    }
   ],
   "source": [
    "import math\n",
    "import matplotlib.pyplot as plt\n",
    "import numpy as np\n",
    "\n",
    "def randuX(n):\n",
    "    \n",
    "    a = 1995 \n",
    "    b = 9513\n",
    "    m = 999983\n",
    "    lastXn = 0\n",
    "    randList = []\n",
    "    for i in range(n):\n",
    "        Xn = float((a*lastXn + b)% m)\n",
    "        lastXn = Xn\n",
    "        random = float(Xn/m)\n",
    "        randList.append(random)\n",
    "    return randList\n",
    "        \n",
    "def randuY(n):\n",
    "    \n",
    "    a = 12859\n",
    "    b = 965139\n",
    "    m = 3474749660383\n",
    "    lastXn = 0\n",
    "    randList = []\n",
    "    for i in range(n):\n",
    "        Xn = float((a*lastXn + b)% m)\n",
    "        lastXn = Xn\n",
    "        random = float(Xn/m)\n",
    "        randList.append(random)\n",
    "    return randList\n",
    "\n",
    "def calcularArea(r):\n",
    "    randX = randuX(10000)\n",
    "    randY = randuY(10000)\n",
    "    InXList = []#Puntos dentro del círculo\n",
    "    OutXList = [] #Puntos fuera del círculo\n",
    "    InYList = []#Puntos dentro del círculo\n",
    "    OutYList = [] #Puntos fuera del círculo\n",
    "    area = 0\n",
    "    for i in range(len(randX)):\n",
    "        X = (randX[i]*2*r-r)\n",
    "        Y = (randY[i]*2*r-r)\n",
    "        if(r**2 >=(X**2+Y**2)):\n",
    "            area = area+1\n",
    "            InXList.append(X)\n",
    "            InYList.append(Y)\n",
    "        else:\n",
    "            OutXList.append(X)\n",
    "            OutYList.append(Y)\n",
    "            \n",
    "    print \"Numero de puntos: \"+ str(area)\n",
    "    print \"Area experimental: \"+str(area)\n",
    "    area = float(area)/float(len(randX))*((2*r)**2)\n",
    "    print \"Area experimental: \"+str(area)\n",
    "    areaTeorica = math.pi*((r)**2)\n",
    "    print \"Area teorica: \"+str(areaTeorica)\n",
    "    graficar(r,InXList,OutXList, InYList, OutYList,areaTeorica,area)\n",
    "    \n",
    "def graficar(r, InX, OutX, InY, OutY,aT,aE):\n",
    "    print\"Dibujando el circulo, espere.....\"\n",
    "    plt.suptitle(\"Area experimental: \"+str(aE)+\" Area Teorica: \"+str(aT)+\" Diferencia: \"+str(abs(aT-aE)))\n",
    "    plt.subplot(2,2,1).set_title(\"N/8\") \n",
    "    x = np.linspace(0, 2*np.pi, 100) # Datos de X para las funciones que se van a usar para pintar el circulo\n",
    "    plt.plot(r*np.cos(x), r*np.sin(x),'k-')\n",
    "    plt.axis('equal')\n",
    "    plt.axis([-r, r, -r, r])\n",
    "    for i in range(len(InX)/8):\n",
    "        plt.plot(InX[i], InY[i], 'o', color='blue')\n",
    "    for i in range(len(OutX)/8):\n",
    "        plt.plot(OutX[i], OutY[i], 'o', color='red')\n",
    "    plt.subplot(2,2,2).set_title(\"N/4\")   \n",
    "    plt.plot(r*np.cos(x), r*np.sin(x),'k-')\n",
    "    plt.axis('equal')\n",
    "    plt.axis([-r, r, -r, r])\n",
    "    for i in range(len(InX)/4):\n",
    "        plt.plot(InX[i], InY[i], 'o', color='blue')\n",
    "    for i in range(len(OutX)/4):\n",
    "        plt.plot(OutX[i], OutY[i], 'o', color='red')\n",
    "    plt.subplot(2,2,3).set_title(\"N/2\")   \n",
    "    plt.plot(r*np.cos(x), r*np.sin(x),'k-')\n",
    "    plt.axis('equal')\n",
    "    plt.axis([-r, r, -r, r])\n",
    "    for i in range(len(InX)/2):\n",
    "        plt.plot(InX[i], InY[i], 'o', color='blue')\n",
    "    for i in range(len(OutX)/2):\n",
    "        plt.plot(OutX[i], OutY[i], 'o', color='red')\n",
    "    plt.subplot(2,2,4).set_title(\"N\") \n",
    "    plt.plot(r*np.cos(x), r*np.sin(x),'k-')\n",
    "    plt.axis('equal')\n",
    "    plt.axis([-r, r, -r, r])\n",
    "    for i in range(len(InX)):\n",
    "        plt.plot(InX[i], InY[i], 'o', color='blue')\n",
    "    for i in range(len(OutX)):\n",
    "        plt.plot(OutX[i], OutY[i], 'o', color='red')\n",
    "   \n",
    "    plt.show()\n",
    "    \n",
    "    \n",
    "def main():\n",
    "    calcularArea(15)\n",
    "    \n",
    "main()"
   ]
  },
  {
   "cell_type": "code",
   "execution_count": null,
   "metadata": {
    "collapsed": true
   },
   "outputs": [],
   "source": []
  }
 ],
 "metadata": {
  "kernelspec": {
   "display_name": "Python [Root]",
   "language": "python",
   "name": "Python [Root]"
  },
  "language_info": {
   "codemirror_mode": {
    "name": "ipython",
    "version": 2
   },
   "file_extension": ".py",
   "mimetype": "text/x-python",
   "name": "python",
   "nbconvert_exporter": "python",
   "pygments_lexer": "ipython2",
   "version": "2.7.12"
  }
 },
 "nbformat": 4,
 "nbformat_minor": 0
}
