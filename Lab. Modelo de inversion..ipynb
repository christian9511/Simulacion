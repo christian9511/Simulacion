{
 "cells": [
  {
   "cell_type": "markdown",
   "metadata": {},
   "source": [
    "# Implementacion del modelo de inversion\n",
    "\n",
    "Se tiene en cuenta que se parte desde el metodo congruencial."
   ]
  },
  {
   "cell_type": "raw",
   "metadata": {},
   "source": [
    "Metodo Congruencial (se importa de una vez la libreria de malplotlip para realizar las graficas y se crea el arreglo de la funcion de distribucion y de la acomulada):"
   ]
  },
  {
   "cell_type": "code",
   "execution_count": 31,
   "metadata": {
    "collapsed": false
   },
   "outputs": [],
   "source": [
    "%matplotlib inline\n",
    "import matplotlib.pyplot as plt\n",
    "import numpy as np\n",
    "import math\n",
    "var=[1,2,3,4,5,6]\n",
    "px=[0.05,0.15,0.3,0.3,0.15,0.1]\n",
    "dpax=[px[0]]\n",
    "n=1000 #numeros aleatorias generados\n",
    "\n",
    "def congruencial(n):\n",
    "    a=3\n",
    "    b=7\n",
    "    m=13\n",
    "    s=[] # se declara el vector con numeros aleatorios\n",
    "    x=5 #se declara la semilla X\n",
    "    for i in range(n):\n",
    "        x=(a*x+b)%m\n",
    "        s.append(float(x)/m)\n",
    "    return s"
   ]
  },
  {
   "cell_type": "raw",
   "metadata": {},
   "source": [
    "Modelo Inversion:"
   ]
  },
  {
   "cell_type": "code",
   "execution_count": 33,
   "metadata": {
    "collapsed": false
   },
   "outputs": [],
   "source": [
    "for i in range(1,len(var)-1):\n",
    "    dpax.append(dpax[i-1]+px[i]);\n",
    "\n",
    "funcion=congruencial(n)\n",
    "fcx=[] #se declara X\n",
    "for i in range(n):\n",
    "    for j in range(len(var)-1):\n",
    "        if funcion[i]<=dpax[j]:\n",
    "            fcx.append(var[j])\n",
    "            break"
   ]
  },
  {
   "cell_type": "raw",
   "metadata": {},
   "source": [
    "Ahora realizamos el histograma:"
   ]
  },
  {
   "cell_type": "code",
   "execution_count": 43,
   "metadata": {
    "collapsed": false
   },
   "outputs": [
    {
     "data": {
      "image/png": "[encoded data removed]",
      "text/plain": [
       "<matplotlib.figure.Figure at 0x81cc748>"
      ]
     },
     "metadata": {},
     "output_type": "display_data"
    }
   ],
   "source": [
    "count, bins, ignored = plt.hist(fux, 20, normed=True)\n",
    "plt.plot(bins, np.ones_like(bins), linewidth=9, color='black')\n",
    "plt.show()"
   ]
  }
 ],
 "metadata": {
  "kernelspec": {
   "display_name": "Python [Root]",
   "language": "python",
   "name": "Python [Root]"
  },
  "language_info": {
   "codemirror_mode": {
    "name": "ipython",
    "version": 2
   },
   "file_extension": ".py",
   "mimetype": "text/x-python",
   "name": "python",
   "nbconvert_exporter": "python",
   "pygments_lexer": "ipython2",
   "version": "2.7.12"
  }
 },
 "nbformat": 4,
 "nbformat_minor": 0
}
