{
 "cells": [
  {
   "cell_type": "markdown",
   "metadata": {
    "collapsed": true
   },
   "source": [
    "# Metodo de inversion con Variables Aleatorias Discretas"
   ]
  },
  {
   "cell_type": "code",
   "execution_count": 10,
   "metadata": {
    "collapsed": true
   },
   "outputs": [],
   "source": [
    "%matplotlib inline\n",
    "import matplotlib.mlab as mlab\n",
    "import matplotlib.pyplot as plt\n",
    "import numpy as np\n",
    "import math\n",
    "var=[1,2,3,4,5,6]\n",
    "px=[0.05,0.15,0.3,0.3,0.15,0.1]\n",
    "dpax=[px[0]]\n",
    "n=1000 #numeros aleatorias generados\n",
    "\n",
    "def  congruencial(x0):\n",
    "    a=1664525\n",
    "    b=1013904223\n",
    "    m=2**32\n",
    "    xi=x0\n",
    "    ui=0\n",
    "    xi=(a*xi + b)%(m)\n",
    "    ui=float(xi)/float(m)\n",
    "    return xi,ui\n",
    "\n",
    "#funcion=congruencial(n)\n",
    "#fcx=[] #se declara X\n",
    "#for i in range(n):\n",
    " #   for j in range(len(var)-1):\n",
    "        #if funcion[i]<=dpax[j]:\n",
    "           #fcx.append(var[j])\n",
    "            #break\n",
    "            \n",
    "\n",
    "def inversion(aco,semilla,it):\n",
    "    inversion = []\n",
    "    xi=semilla\n",
    "    for i in range(it):\n",
    "        xi,random=congruencial(xi)\n",
    "        for x in range(len(aco)):\n",
    "            if(random <=aco[x]):\n",
    "                inversion.append(x+1) \n",
    "                break\n",
    "    return inversion\n",
    "\n",
    "\n",
    "def distribucionAcumulada(dAcu):\n",
    "    acomulada = []\n",
    "    for x in range(len(dAcu)):\n",
    "        if(x==0):\n",
    "            acomulada.append(dAcu[x])\n",
    "        else:\n",
    "            suma = acomulada[x-1]+dAcu[x]\n",
    "            acomulada.append(suma)   \n",
    "    return acomulada           "
   ]
  },
  {
   "cell_type": "raw",
   "metadata": {},
   "source": [
    "VARIABLE ALEATORIA DE BERNOULLI:"
   ]
  },
  {
   "cell_type": "code",
   "execution_count": 11,
   "metadata": {
    "collapsed": false
   },
   "outputs": [
    {
     "name": "stdout",
     "output_type": "stream",
     "text": [
      "1\n"
     ]
    }
   ],
   "source": [
    "def  vaBernoulli():\n",
    "    bernoulli=[0,1]\n",
    "    return bernoulli\n",
    "\n",
    "Funiforme=vaBernoulli()\n",
    "print(np.sum(Funiforme))\n",
    "aco = distribucionAcumulada(Funiforme)\n",
    "\n",
    "semilla=5\n",
    "modeloInversion=inversion(aco,semilla,20000)"
   ]
  },
  {
   "cell_type": "raw",
   "metadata": {},
   "source": [
    "Generar Grafica....."
   ]
  },
  {
   "cell_type": "code",
   "execution_count": 12,
   "metadata": {
    "collapsed": false
   },
   "outputs": [
    {
     "data": {
      "image/png": "[encoded data removed]",
      "text/plain": [
       "<matplotlib.figure.Figure at 0x75951d0>"
      ]
     },
     "metadata": {},
     "output_type": "display_data"
    }
   ],
   "source": [
    "numero_bins = 50\n",
    "n, bins, patches = plt.hist(modeloInversion, numero_bins, normed=1, facecolor='red', alpha=1) \n",
    "plt.xlabel('# ALEATORIOS (X) ')\n",
    "plt.ylabel('PROBABILIDAD (Y) ')\n",
    "plt.title('PARAMETROS CUANDO u:'+str(-1))\n",
    "plt.show()"
   ]
  },
  {
   "cell_type": "raw",
   "metadata": {},
   "source": [
    "AHORA SE IMPLEMENTA LA VARIABLE ALEATORIA UNIFORME"
   ]
  },
  {
   "cell_type": "code",
   "execution_count": 13,
   "metadata": {
    "collapsed": false
   },
   "outputs": [
    {
     "name": "stdout",
     "output_type": "stream",
     "text": [
      "Ingrese el valor de a:50\n",
      "Ingrese el valor de b:90\n",
      "1.0\n"
     ]
    },
    {
     "data": {
      "image/png": "[encoded data removed]",
      "text/plain": [
       "<matplotlib.figure.Figure at 0x7632898>"
      ]
     },
     "metadata": {},
     "output_type": "display_data"
    }
   ],
   "source": [
    "def vaUniforme(a,b):\n",
    "    unif=[]\n",
    "    k=b-a\n",
    "    for i in range(k):\n",
    "        unif.append(1/float(k))\n",
    "    return unif\n",
    "\n",
    "a =int(input(\"Ingrese el valor de a:\"))\n",
    "b =int(input(\"Ingrese el valor de b:\"))\n",
    "F2uniforme = vaUniforme(a,b)\n",
    "print(np.sum(F2uniforme))\n",
    "aco=distribucionAcumulada(F2uniforme)\n",
    "\n",
    "semilla = 5\n",
    "modeloInversion=inversion(aco,semilla,20000)\n",
    "numero_bins = 50\n",
    "n, bins, patches = plt.hist(modeloInversion, numero_bins, normed=1, facecolor='blue', alpha=1)\n",
    "plt.xlabel('# ALEATORIOS (X) ')\n",
    "plt.ylabel('PROBABILIDAD (Y) ')\n",
    "plt.title('PARAMETROS CUANDO u: ' +str(b-a))\n",
    "plt.show()"
   ]
  },
  {
   "cell_type": "raw",
   "metadata": {},
   "source": [
    "POR ULTIMO SE IMPLEMENTA LA VARIABLE ALEATORIA DE POISSON:"
   ]
  },
  {
   "cell_type": "code",
   "execution_count": 14,
   "metadata": {
    "collapsed": false
   },
   "outputs": [
    {
     "name": "stdout",
     "output_type": "stream",
     "text": [
      "Ingrese el valor de Landa:7\n",
      "Ingrese el valor de k:12\n",
      "0.973000226575\n"
     ]
    },
    {
     "data": {
      "image/png": "[encoded data removed]",
      "text/plain": [
       "<matplotlib.figure.Figure at 0x7691e10>"
      ]
     },
     "metadata": {},
     "output_type": "display_data"
    }
   ],
   "source": [
    "def  vaPoisson(lda,k):\n",
    "    poisson = []\n",
    "    for i in range(k+1):\n",
    "        a = (math.exp(-lda)*lda**i)\n",
    "        fac = factorial(i)        \n",
    "        poisson.append(a/fac)\n",
    "    return poisson\n",
    "\n",
    "def factorial(n):\n",
    "    if n==0:\n",
    "        return 1\n",
    "    else:\n",
    "        return n*factorial(n-1)\n",
    "\n",
    "lda=int(input(\"Ingrese el valor de Landa:\"))\n",
    "k =int(input(\"Ingrese el valor de k:\"))\n",
    "F3poisson = vaPoisson(lda,k)\n",
    "print(np.sum(F3poisson))\n",
    "aco=distribucionAcumulada(F3poisson)\n",
    "\n",
    "semilla = 5\n",
    "modeloInversion=inversion(aco,semilla,20000)\n",
    "numero_bins = 50\n",
    "n, bins, patches = plt.hist(modeloInversion, numero_bins, normed=1, facecolor='black', alpha=1)\n",
    "\n",
    "plt.xlabel('# ALEATORIOS (X) ')\n",
    "plt.ylabel('PROBABILIDAD (Y) ')\n",
    "plt.title('PARAMETROS CUANDO u:'+str(lda)+' y k=15')\n",
    "plt.show()"
   ]
  }
 ],
 "metadata": {
  "anaconda-cloud": {},
  "kernelspec": {
   "display_name": "Python [Root]",
   "language": "python",
   "name": "Python [Root]"
  },
  "language_info": {
   "codemirror_mode": {
    "name": "ipython",
    "version": 2
   },
   "file_extension": ".py",
   "mimetype": "text/x-python",
   "name": "python",
   "nbconvert_exporter": "python",
   "pygments_lexer": "ipython2",
   "version": "2.7.12"
  }
 },
 "nbformat": 4,
 "nbformat_minor": 0
}
