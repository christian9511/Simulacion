{
 "cells": [
  {
   "cell_type": "markdown",
   "metadata": {
    "collapsed": false
   },
   "source": [
    "Pregunta 2:\n",
    "Sea Xn = ( aX{n-1} + b ) mod m un generador congruencial con los siguientes parámetros: m=91, a=11, b=4 y X_0=17, generar los primeros 100 valores X_i y U_i. ¿Cúal es la longitud de la secuencia?\n",
    "Respuesta: a. 12"
   ]
  },
  {
   "cell_type": "code",
   "execution_count": 1,
   "metadata": {
    "collapsed": false
   },
   "outputs": [
    {
     "name": "stdout",
     "output_type": "stream",
     "text": [
      "Used parameters: \n",
      "a = 11 b = 4 m = 91\n",
      "Random numbers generated: \n",
      "Xi:  [9.0, 12.0, 45.0, 44.0, 33.0, 3.0, 37.0, 47.0, 66.0, 2.0, 26.0, 17.0, 9.0, 12.0, 45.0, 44.0, 33.0, 3.0, 37.0, 47.0, 66.0, 2.0, 26.0, 17.0, 9.0, 12.0, 45.0, 44.0, 33.0, 3.0, 37.0, 47.0, 66.0, 2.0, 26.0, 17.0, 9.0, 12.0, 45.0, 44.0, 33.0, 3.0, 37.0, 47.0, 66.0, 2.0, 26.0, 17.0, 9.0, 12.0, 45.0, 44.0, 33.0, 3.0, 37.0, 47.0, 66.0, 2.0, 26.0, 17.0, 9.0, 12.0, 45.0, 44.0, 33.0, 3.0, 37.0, 47.0, 66.0, 2.0, 26.0, 17.0, 9.0, 12.0, 45.0, 44.0, 33.0, 3.0, 37.0, 47.0, 66.0, 2.0, 26.0, 17.0, 9.0, 12.0, 45.0, 44.0, 33.0, 3.0, 37.0, 47.0, 66.0, 2.0, 26.0, 17.0, 9.0, 12.0, 45.0, 44.0]\n",
      "\n",
      "Ui:  [0.0989010989010989, 0.13186813186813187, 0.4945054945054945, 0.4835164835164835, 0.3626373626373626, 0.03296703296703297, 0.4065934065934066, 0.5164835164835165, 0.7252747252747253, 0.02197802197802198, 0.2857142857142857, 0.18681318681318682, 0.0989010989010989, 0.13186813186813187, 0.4945054945054945, 0.4835164835164835, 0.3626373626373626, 0.03296703296703297, 0.4065934065934066, 0.5164835164835165, 0.7252747252747253, 0.02197802197802198, 0.2857142857142857, 0.18681318681318682, 0.0989010989010989, 0.13186813186813187, 0.4945054945054945, 0.4835164835164835, 0.3626373626373626, 0.03296703296703297, 0.4065934065934066, 0.5164835164835165, 0.7252747252747253, 0.02197802197802198, 0.2857142857142857, 0.18681318681318682, 0.0989010989010989, 0.13186813186813187, 0.4945054945054945, 0.4835164835164835, 0.3626373626373626, 0.03296703296703297, 0.4065934065934066, 0.5164835164835165, 0.7252747252747253, 0.02197802197802198, 0.2857142857142857, 0.18681318681318682, 0.0989010989010989, 0.13186813186813187, 0.4945054945054945, 0.4835164835164835, 0.3626373626373626, 0.03296703296703297, 0.4065934065934066, 0.5164835164835165, 0.7252747252747253, 0.02197802197802198, 0.2857142857142857, 0.18681318681318682, 0.0989010989010989, 0.13186813186813187, 0.4945054945054945, 0.4835164835164835, 0.3626373626373626, 0.03296703296703297, 0.4065934065934066, 0.5164835164835165, 0.7252747252747253, 0.02197802197802198, 0.2857142857142857, 0.18681318681318682, 0.0989010989010989, 0.13186813186813187, 0.4945054945054945, 0.4835164835164835, 0.3626373626373626, 0.03296703296703297, 0.4065934065934066, 0.5164835164835165, 0.7252747252747253, 0.02197802197802198, 0.2857142857142857, 0.18681318681318682, 0.0989010989010989, 0.13186813186813187, 0.4945054945054945, 0.4835164835164835, 0.3626373626373626, 0.03296703296703297, 0.4065934065934066, 0.5164835164835165, 0.7252747252747253, 0.02197802197802198, 0.2857142857142857, 0.18681318681318682, 0.0989010989010989, 0.13186813186813187, 0.4945054945054945, 0.4835164835164835]\n",
      "\n",
      "LONGITUD DE LA SECUENCIA:  12\n"
     ]
    }
   ],
   "source": [
    "def generadorCongruencial(n):\n",
    "    \n",
    "    m = 91\n",
    "    a = 11\n",
    "    b = 4\n",
    "    Xo = 17\n",
    "    lastXn = Xo\n",
    "    Xi = []\n",
    "    Ui = []\n",
    "    ls = 1\n",
    "    first = 0\n",
    "    print \"Used parameters: \"\n",
    "    print \"a = \"+str(a)+\" b = \"+str(b)+\" m = \"+str(m)\n",
    "    print \"Random numbers generated: \"\n",
    "    for i in range(n):\n",
    "        Xn = float((a*lastXn + b)% m)\n",
    "        lastXn = Xn\n",
    "        Xi.append(Xn)\n",
    "        random = float(Xn/m)\n",
    "        Ui.append(random)\n",
    "        if (i == 0):\n",
    "            first = random   \n",
    "            \n",
    "    print 'Xi: ', Xi\n",
    "    print \"\"\n",
    "    print 'Ui: ', Ui\n",
    "    \n",
    "    for i in range(len(Ui)):\n",
    "        if(i > 0):\n",
    "            if(Ui[i] != first):\n",
    "                ls += 1\n",
    "            else:    \n",
    "                break\n",
    "    print '' \n",
    "    print 'LONGITUD DE LA SECUENCIA: ', ls\n",
    "    \n",
    "def main():\n",
    "    generadorCongruencial(100)\n",
    "main()"
   ]
  },
  {
   "cell_type": "markdown",
   "metadata": {},
   "source": [
    "Pregunta 3:\n",
    "Sea Xn = ( aX{n-1} + b ) mod m un generador congruencial con los siguientes parámetros: m=271, a=139, b=17 y X_0=9, generar los primeros 100 valores X_i y U_i. ¿Cúales son los primeros cinco numeros aleatorios U_i?\n",
    "Respuesta: a. 0.6790, 0.4391, 0.0996, 0.9114, 0.7528"
   ]
  },
  {
   "cell_type": "code",
   "execution_count": 2,
   "metadata": {
    "collapsed": false
   },
   "outputs": [
    {
     "name": "stdout",
     "output_type": "stream",
     "text": [
      "Used parameters: \n",
      "a = 139 b = 17 m = 271\n",
      "Random numbers generated: \n",
      "Xi:  [184.0, 119.0, 27.0, 247.0, 204.0, 189.0, 1.0, 156.0, 21.0, 226.0, 266.0, 135.0, 83.0, 172.0, 77.0, 151.0, 139.0, 97.0, 221.0, 113.0, 6.0, 38.0, 150.0, 0.0, 17.0, 212.0, 217.0, 99.0, 228.0, 2.0, 24.0, 101.0, 235.0, 162.0, 42.0, 164.0, 49.0, 53.0, 67.0, 116.0, 152.0, 7.0, 177.0, 230.0, 9.0, 184.0, 119.0, 27.0, 247.0, 204.0, 189.0, 1.0, 156.0, 21.0, 226.0, 266.0, 135.0, 83.0, 172.0, 77.0, 151.0, 139.0, 97.0, 221.0, 113.0, 6.0, 38.0, 150.0, 0.0, 17.0, 212.0, 217.0, 99.0, 228.0, 2.0, 24.0, 101.0, 235.0, 162.0, 42.0, 164.0, 49.0, 53.0, 67.0, 116.0, 152.0, 7.0, 177.0, 230.0, 9.0, 184.0, 119.0, 27.0, 247.0, 204.0, 189.0, 1.0, 156.0, 21.0, 226.0]\n",
      "\n",
      "Ui:  [0.6789667896678967, 0.43911439114391143, 0.0996309963099631, 0.9114391143911439, 0.7527675276752768, 0.6974169741697417, 0.0036900369003690036, 0.5756457564575646, 0.07749077490774908, 0.8339483394833949, 0.981549815498155, 0.4981549815498155, 0.3062730627306273, 0.6346863468634686, 0.28413284132841327, 0.5571955719557196, 0.5129151291512916, 0.35793357933579334, 0.8154981549815498, 0.41697416974169743, 0.02214022140221402, 0.14022140221402213, 0.5535055350553506, 0.0, 0.06273062730627306, 0.7822878228782287, 0.8007380073800738, 0.36531365313653136, 0.8413284132841329, 0.007380073800738007, 0.08856088560885608, 0.3726937269372694, 0.8671586715867159, 0.5977859778597786, 0.15498154981549817, 0.6051660516605166, 0.18081180811808117, 0.19557195571955718, 0.24723247232472326, 0.4280442804428044, 0.5608856088560885, 0.025830258302583026, 0.6531365313653137, 0.8487084870848709, 0.033210332103321034, 0.6789667896678967, 0.43911439114391143, 0.0996309963099631, 0.9114391143911439, 0.7527675276752768, 0.6974169741697417, 0.0036900369003690036, 0.5756457564575646, 0.07749077490774908, 0.8339483394833949, 0.981549815498155, 0.4981549815498155, 0.3062730627306273, 0.6346863468634686, 0.28413284132841327, 0.5571955719557196, 0.5129151291512916, 0.35793357933579334, 0.8154981549815498, 0.41697416974169743, 0.02214022140221402, 0.14022140221402213, 0.5535055350553506, 0.0, 0.06273062730627306, 0.7822878228782287, 0.8007380073800738, 0.36531365313653136, 0.8413284132841329, 0.007380073800738007, 0.08856088560885608, 0.3726937269372694, 0.8671586715867159, 0.5977859778597786, 0.15498154981549817, 0.6051660516605166, 0.18081180811808117, 0.19557195571955718, 0.24723247232472326, 0.4280442804428044, 0.5608856088560885, 0.025830258302583026, 0.6531365313653137, 0.8487084870848709, 0.033210332103321034, 0.6789667896678967, 0.43911439114391143, 0.0996309963099631, 0.9114391143911439, 0.7527675276752768, 0.6974169741697417, 0.0036900369003690036, 0.5756457564575646, 0.07749077490774908, 0.8339483394833949]\n",
      "\n",
      "Los primeros cinco numeros aleatorios son:  [0.6789667896678967, 0.43911439114391143, 0.0996309963099631, 0.9114391143911439, 0.7527675276752768]\n"
     ]
    }
   ],
   "source": [
    "def generadorCongruencial(n):\n",
    "    \n",
    "    m = 271\n",
    "    a = 139\n",
    "    b = 17\n",
    "    Xo = 9\n",
    "    lastXn = Xo\n",
    "    Xi = []\n",
    "    Ui = []\n",
    "    print \"Used parameters: \"\n",
    "    print \"a = \"+str(a)+\" b = \"+str(b)+\" m = \"+str(m)\n",
    "    print \"Random numbers generated: \"\n",
    "    for i in range(n):\n",
    "        Xn = float((a*lastXn + b)% m)\n",
    "        lastXn = Xn\n",
    "        Xi.append(Xn)\n",
    "        random = float(Xn/m)\n",
    "        Ui.append(random)\n",
    "    print 'Xi: ', Xi\n",
    "    print \"\"\n",
    "    print 'Ui: ', Ui\n",
    "    print \"\"\n",
    "    print 'Los primeros cinco numeros aleatorios son: ',Ui[0:5]\n",
    "    \n",
    "def main():\n",
    "    generadorCongruencial(100)\n",
    "main()"
   ]
  },
  {
   "cell_type": "markdown",
   "metadata": {},
   "source": [
    "\n",
    "Pregunta 5:\n",
    "¿Cúal es el valor del estadístico de Chi-cuadrado para una secuencia de 2000 numeros aleatorios y un k=100 de un generador congruencial mixto con a = 16645, b = 13467, m = 317, X_0 = 999?\n",
    "Respuesta: d. 12330"
   ]
  },
  {
   "cell_type": "code",
   "execution_count": 3,
   "metadata": {
    "collapsed": false
   },
   "outputs": [
    {
     "name": "stdout",
     "output_type": "stream",
     "text": [
      "Used parameters: \n",
      "a = 16645 b = 13467 m = 317\n",
      "Random numbers generated: \n"
     ]
    },
    {
     "data": {
      "image/png": "[encoded data removed]",
      "text/plain": [
       "<matplotlib.figure.Figure at 0x6206780>"
      ]
     },
     "metadata": {},
     "output_type": "display_data"
    },
    {
     "name": "stdout",
     "output_type": "stream",
     "text": [
      "El estadistico de Chi-cuadrado para este generador es:  12330.0\n"
     ]
    }
   ],
   "source": [
    "%matplotlib inline\n",
    "import matplotlib.pyplot as plt\n",
    "import numpy as np\n",
    "\n",
    "def generadorCongruencial(n):\n",
    "    \n",
    "    m = 317\n",
    "    a = 16645\n",
    "    b = 13467\n",
    "    Xo = 999\n",
    "    lastXn = Xo\n",
    "    Xi = []\n",
    "    Ui = []\n",
    "    print \"Used parameters: \"\n",
    "    print \"a = \"+str(a)+\" b = \"+str(b)+\" m = \"+str(m)\n",
    "    print \"Random numbers generated: \"\n",
    "    for i in range(n):\n",
    "        Xn = float((a*lastXn + b)% m)\n",
    "        lastXn = Xn\n",
    "        Xi.append(Xn)\n",
    "        random = float(Xn/m)\n",
    "        Ui.append(random)\n",
    "    return Ui\n",
    "    \n",
    "def chicuadrado():\n",
    "    \n",
    "    n = 2000\n",
    "    x = generadorCongruencial(n)\n",
    "    k = 100\n",
    "    fi, clases, nadaimportante = plt.hist(x, k)\n",
    "    # fi = observaciones encontradas, ei= observaciones esperadas\n",
    "    ei = np.ones_like(clases)*(n/k)\n",
    "    plt.plot(clases, ei, linewidth=3, color = '#FA58F4')\n",
    "    plt.show()\n",
    "    chi2 = 0\n",
    "    ei = n/k\n",
    "    for i in fi:\n",
    "        chi2 += (i-ei)**2\n",
    "    print \"El estadistico de Chi-cuadrado para este generador es: \", chi2\n",
    "    \n",
    "def main():\n",
    "    chicuadrado()\n",
    "main()    "
   ]
  },
  {
   "cell_type": "markdown",
   "metadata": {},
   "source": [
    "\n",
    "Pregunta 6:\n",
    "Dados los siguientes valores de la distribución de probabilidad discreta de la variable aleatoria X de un dado: X = {1,2,3,4,5,6}, p(X) = {0.2,0.1,0.05,0.2,0.05,0.4}, ¿Qué valores retornaría el generador de variables aleatorias por el método de la inversión si los números aleatorios generados son: U = {0.4280, 0.5609, 0.0258, 0.6531, 0.8487, 0.0332, 0.6790, 0.4391}?\n",
    "Respuesta: a. [4, 5, 1, 6, 6, 1, 6, 4]"
   ]
  },
  {
   "cell_type": "code",
   "execution_count": 4,
   "metadata": {
    "collapsed": false
   },
   "outputs": [
    {
     "name": "stdout",
     "output_type": "stream",
     "text": [
      "Generated numbers: \n",
      "[4, 5, 1, 6, 6, 1, 6, 4]\n"
     ]
    },
    {
     "data": {
      "image/png": "[encoded data removed]",
      "text/plain": [
       "<matplotlib.figure.Figure at 0x37b0470>"
      ]
     },
     "metadata": {},
     "output_type": "display_data"
    }
   ],
   "source": [
    "def genVAD(u, x, px):\n",
    "    \n",
    "    dAcum = distAcum (x,px)\n",
    "    rList = u\n",
    "    xList = []\n",
    "    for i in rList:\n",
    "        for j in range(len(dAcum)):\n",
    "            if(i <= dAcum[j]):\n",
    "                xList.append(x[j])\n",
    "                break\n",
    "    print \"Generated numbers: \"\n",
    "    print xList\n",
    "    plt.hist(xList)\n",
    "      \n",
    "def distAcum(x, px):\n",
    "    \n",
    "    Px = []\n",
    "    suma = 0\n",
    "    for i in range(len(x)):\n",
    "        Px.append(suma + px[i])\n",
    "        suma = suma + px[i]\n",
    "    return Px\n",
    "\n",
    "def main():\n",
    "    x = [1,2,3,4,5,6]\n",
    "    px = [0.2,0.1,0.05,0.2,0.05,0.4]\n",
    "    u = [0.4280, 0.5609, 0.0258, 0.6531, 0.8487, 0.0332, 0.6790, 0.4391]\n",
    "    genVAD(u,x,px)\n",
    "    \n",
    "main()"
   ]
  },
  {
   "cell_type": "markdown",
   "metadata": {},
   "source": [
    "\n",
    "Pregunta 9:\n",
    "¿Cúal es el valor del estadístico de Kolmogorov–Smirnov para una secuencia de 2000 numeros aleatorios de un generador congruencial mixto con a = 16645, b = 13467, m = 317, X_0 = 999?\n",
    "Respuesta: e. 0.22878622683"
   ]
  },
  {
   "cell_type": "code",
   "execution_count": 5,
   "metadata": {
    "collapsed": false
   },
   "outputs": [
    {
     "name": "stdout",
     "output_type": "stream",
     "text": [
      "Used parameters: \n",
      "a = 16645 b = 13467 m = 317\n",
      "Random numbers generated: \n"
     ]
    },
    {
     "data": {
      "image/png": "[encoded data removed]",
      "text/plain": [
       "<matplotlib.figure.Figure at 0x734a630>"
      ]
     },
     "metadata": {},
     "output_type": "display_data"
    },
    {
     "name": "stdout",
     "output_type": "stream",
     "text": [
      "El valor del estadistico  de Kolmogorv Smirnov para este generador es:  0.22878622683\n"
     ]
    },
    {
     "data": {
      "image/png": "[encoded data removed]",
      "text/plain": [
       "<matplotlib.figure.Figure at 0x742b4a8>"
      ]
     },
     "metadata": {},
     "output_type": "display_data"
    }
   ],
   "source": [
    "\n",
    "def generadorCongruencial(n):\n",
    "    \n",
    "    m = 317\n",
    "    a = 16645\n",
    "    b = 13467\n",
    "    Xo = 999\n",
    "    lastXn = Xo\n",
    "    Xi = []\n",
    "    Ui = []\n",
    "    print \"Used parameters: \"\n",
    "    print \"a = \"+str(a)+\" b = \"+str(b)+\" m = \"+str(m)\n",
    "    print \"Random numbers generated: \"\n",
    "    for i in range(n):\n",
    "        Xn = float((a*lastXn + b)% m)\n",
    "        lastXn = Xn\n",
    "        Xi.append(Xn)\n",
    "        random = float(Xn/m)\n",
    "        Ui.append(random)\n",
    "    return Ui\n",
    "\n",
    "def kolmogorov():\n",
    "    \n",
    "    n = 2000\n",
    "    x = generadorCongruencial(n)\n",
    "    u = [1.0] * n\n",
    "    # Graficar distribucion empirica f(x)\n",
    "    count, bins, ignored = plt.hist(x, 10, normed=True)\n",
    "    plt.plot(bins, np.ones_like(bins), linewidth=3, color = '#FA58F4')\n",
    "    plt.show()\n",
    "    # Generamos la distribucion acumulada de una distribucion uniforme con parametros 0 y 1, para n valores.\n",
    "    x1 = np.arange(1/(n+0.0),1+1/(n+0.0),1/(n+0.0))\n",
    "    y1 = np.cumsum(np.sort(u)/np.max(np.cumsum(u)))\n",
    "    #Generamos distribucion acumulada del generador que estamos evaluando para N valores.\n",
    "    x2 = np.sort(x)\n",
    "    y2 = np.cumsum(np.sort(x)/np.max(np.cumsum(x)))\n",
    "\n",
    "    De = np.absolute(y2-y1)\n",
    "    \n",
    "    # Plotting\n",
    "    plt.plot(x1,y1,label='Uniforme')\n",
    "    plt.step(x2,y2,label='Aleatoria')\n",
    "    x3 = [x1[De.argmax()],x1[De.argmax()]]\n",
    "    y3 = [np.min([y1[De.argmax()],y2[De.argmax()]]),np.max([y1[De.argmax()],y2[De.argmax()]])]\n",
    "    plt.step(x3,y3,label='De')\n",
    "    \n",
    "    plt.legend()\n",
    "    plt.xlabel('X')\n",
    "    plt.ylabel('Probabilidad acumulada P(X)')\n",
    "    \n",
    "    De = np.max(De) \n",
    "    print 'El valor del estadistico  de Kolmogorv Smirnov para este generador es: ', De\n",
    "    \n",
    "def main():\n",
    "    kolmogorov()\n",
    "main()"
   ]
  },
  {
   "cell_type": "code",
   "execution_count": null,
   "metadata": {
    "collapsed": true
   },
   "outputs": [],
   "source": []
  }
 ],
 "metadata": {
  "anaconda-cloud": {},
  "kernelspec": {
   "display_name": "Python [Root]",
   "language": "python",
   "name": "Python [Root]"
  },
  "language_info": {
   "codemirror_mode": {
    "name": "ipython",
    "version": 2
   },
   "file_extension": ".py",
   "mimetype": "text/x-python",
   "name": "python",
   "nbconvert_exporter": "python",
   "pygments_lexer": "ipython2",
   "version": "2.7.12"
  }
 },
 "nbformat": 4,
 "nbformat_minor": 0
}
