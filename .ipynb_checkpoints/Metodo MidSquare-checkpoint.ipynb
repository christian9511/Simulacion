{
 "cells": [
  {
   "cell_type": "markdown",
   "metadata": {},
   "source": [
    "# Implementacion del metodo MidSquare:"
   ]
  },
  {
   "cell_type": "code",
   "execution_count": 6,
   "metadata": {
    "collapsed": false
   },
   "outputs": [
    {
     "ename": "SyntaxError",
     "evalue": "Missing parentheses in call to 'print' (<ipython-input-6-a06821512eca>, line 16)",
     "output_type": "error",
     "traceback": [
      "\u001b[1;36m  File \u001b[1;32m\"<ipython-input-6-a06821512eca>\"\u001b[1;36m, line \u001b[1;32m16\u001b[0m\n\u001b[1;33m    print random\u001b[0m\n\u001b[1;37m               ^\u001b[0m\n\u001b[1;31mSyntaxError\u001b[0m\u001b[1;31m:\u001b[0m Missing parentheses in call to 'print'\n"
     ]
    }
   ],
   "source": [
    "try:\n",
    "    seed=int(raw_input('Ingrese el numero de semillas:'))\n",
    "    if(len(str(seed))%2 == 0):\n",
    "        try:\n",
    "            n=int(raw_input('ingrese los numero aleatorios a generar:'))\n",
    "            for i in range(n):\n",
    "                random = str(seed*seed)\n",
    "                #print random\n",
    "                if not(len(str(random))%4 == 0):\n",
    "                    random = \"0\"+str(random)\n",
    "                #print random\n",
    "                random = random[len(str(seed))/2:-len(str(seed))/2]\n",
    "                #print random\n",
    "                seed = int(random)\n",
    "                random = \"0.\"+random\n",
    "                print random\n",
    "        except ValueError:\n",
    "            print \"Not a number\"\n",
    "    else:\n",
    "        print \"Seed must have a 2n length\"\n",
    "except ValueError:\n",
    "    print \"Not a number\""
   ]
  },
  {
   "cell_type": "code",
   "execution_count": null,
   "metadata": {
    "collapsed": true
   },
   "outputs": [],
   "source": []
  }
 ],
 "metadata": {
  "kernelspec": {
   "display_name": "Python [Root]",
   "language": "python",
   "name": "Python [Root]"
  },
  "language_info": {
   "codemirror_mode": {
    "name": "ipython",
    "version": 3
   },
   "file_extension": ".py",
   "mimetype": "text/x-python",
   "name": "python",
   "nbconvert_exporter": "python",
   "pygments_lexer": "ipython3",
   "version": "3.5.2"
  }
 },
 "nbformat": 4,
 "nbformat_minor": 0
}
