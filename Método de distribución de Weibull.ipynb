{
 "cells": [
  {
   "cell_type": "markdown",
   "metadata": {},
   "source": [
    "# Distribucion de Weibull con inversion"
   ]
  },
  {
   "cell_type": "markdown",
   "metadata": {},
   "source": [
    "Metodo congruencial:"
   ]
  },
  {
   "cell_type": "code",
   "execution_count": 47,
   "metadata": {
    "collapsed": true
   },
   "outputs": [],
   "source": [
    "%matplotlib inline\n",
    "import matplotlib.mlab as mlab\n",
    "import matplotlib.pyplot as plt\n",
    "import numpy as np\n",
    "import math\n",
    "\n",
    "#n=1000 #numeros aleatorias generados\n",
    "\n",
    "def congruencial(x0):\n",
    "    a = 1664525\n",
    "    b = 1013904223\n",
    "    m = 2**32\n",
    "    xi = x0\n",
    "    ui = 0\n",
    "    xi = (a*xi + b)%(m)\n",
    "    ui = float(xi)/float(m)\n",
    "\n",
    "    return ui,xi\n",
    "#funcion=congruencial(n)\n",
    "#fcx=[] #se declara X\n",
    "#for i in range(n):\n",
    " #   for j in range(len(var)-1):\n",
    "        #if funcion[i]<=dpax[j]:\n",
    "           #fcx.append(var[j])\n",
    "            #break"
   ]
  },
  {
   "cell_type": "markdown",
   "metadata": {},
   "source": [
    "La distribucion Weibull:"
   ]
  },
  {
   "cell_type": "code",
   "execution_count": 48,
   "metadata": {
    "collapsed": true
   },
   "outputs": [],
   "source": [
    "def distWeibull(itera,k,landa,semilla):\n",
    "    x0=semilla\n",
    "    x=[]\n",
    "    for i in range(itera):\n",
    "        p,x0=congruencial(x0)\n",
    "        prov=landa*(-math.log(1-p))**(1/k)\n",
    "        x.append(prov)\n",
    "    return x"
   ]
  },
  {
   "cell_type": "markdown",
   "metadata": {},
   "source": [
    "Weibull Teorica:"
   ]
  },
  {
   "cell_type": "code",
   "execution_count": 49,
   "metadata": {
    "collapsed": true
   },
   "outputs": [],
   "source": [
    "def weibTeorico(itera,k,landa):\n",
    "    weibullTeoricoX=[]\n",
    "    weibullTeoricoY=[]\n",
    "    itera=itera*100\n",
    "    for i in range(itera):\n",
    "        x = float(float(i)/100.0)\n",
    "        numeroY=(k/landa)*(x/landa)**(k-1)*math.exp(-(x/landa)**k)\n",
    "        weibullTeoricoY.append(numeroY)\n",
    "        weibullTeoricoX.append(x)\n",
    "        \n",
    "    return weibullTeoricoX, weibullTeoricoY"
   ]
  },
  {
   "cell_type": "markdown",
   "metadata": {},
   "source": [
    "Graficar...."
   ]
  },
  {
   "cell_type": "code",
   "execution_count": 50,
   "metadata": {
    "collapsed": false
   },
   "outputs": [
    {
     "data": {
      "image/png": "[encoded data removed]",
      "text/plain": [
       "<matplotlib.figure.Figure at 0x7613b70>"
      ]
     },
     "metadata": {},
     "output_type": "display_data"
    }
   ],
   "source": [
    "itera=3000\n",
    "landa=4\n",
    "k=4.8\n",
    "semilla=25\n",
    "rango=4\n",
    "ax=plt.gca()\n",
    "distWeibull=distWeibull(itera,k,landa,semilla)\n",
    "weibullTeoricoX, weibullTeoricoY = weibTeorico(rango,k,landa)\n",
    "count, bins, ignored = plt.hist(distWeibull, 30, normed=True,color='gray')\n",
    "ax.plot(weibullTeoricoX,weibullTeoricoY,'blue',linewidth=2.5)\n",
    "plt.show()"
   ]
  },
  {
   "cell_type": "code",
   "execution_count": null,
   "metadata": {
    "collapsed": true
   },
   "outputs": [],
   "source": []
  }
 ],
 "metadata": {
  "kernelspec": {
   "display_name": "Python [Root]",
   "language": "python",
   "name": "Python [Root]"
  },
  "language_info": {
   "codemirror_mode": {
    "name": "ipython",
    "version": 2
   },
   "file_extension": ".py",
   "mimetype": "text/x-python",
   "name": "python",
   "nbconvert_exporter": "python",
   "pygments_lexer": "ipython2",
   "version": "2.7.12"
  }
 },
 "nbformat": 4,
 "nbformat_minor": 0
}
