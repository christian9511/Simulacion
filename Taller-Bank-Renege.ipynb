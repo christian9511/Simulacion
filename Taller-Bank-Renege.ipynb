{
 "cells": [
  {
   "cell_type": "markdown",
   "metadata": {},
   "source": [
    "# Taller de Bank Renege con la Distribucion exponecial"
   ]
  },
  {
   "cell_type": "code",
   "execution_count": 13,
   "metadata": {
    "collapsed": true
   },
   "outputs": [],
   "source": [
    "%matplotlib inline\n",
    "import matplotlib.mlab as mlab\n",
    "import matplotlib.pyplot as plt\n",
    "import numpy as np\n",
    "import math\n",
    "\n",
    "n=1000 #numeros aleatorias generados\n",
    "\n",
    "def congruencial(x0):\n",
    "    a = 1664525\n",
    "    b = 1013904223\n",
    "    m = 2**32\n",
    "    xi = x0\n",
    "    ui =0\n",
    "    xi = (a*xi + b)%(m)\n",
    "    ui = float(xi)/float(m)\n",
    "\n",
    "    return ui,xi\n",
    "#funcion=congruencial(n)\n",
    "#fcx=[] #se declara X\n",
    "#for i in range(n):\n",
    " #   for j in range(len(var)-1):\n",
    "        #if funcion[i]<=dpax[j]:\n",
    "           #fcx.append(var[j])\n",
    "            #break"
   ]
  },
  {
   "cell_type": "markdown",
   "metadata": {
    "collapsed": false
   },
   "source": [
    "Distribucion exponecial:"
   ]
  },
  {
   "cell_type": "code",
   "execution_count": 14,
   "metadata": {
    "collapsed": true
   },
   "outputs": [],
   "source": [
    "def exponencial(landa,x0):\n",
    "        ui,x0 = congruencial(x0)\n",
    "        ex=(-math.log(1-ui))/landa\n",
    "        return ex,x0"
   ]
  },
  {
   "cell_type": "markdown",
   "metadata": {
    "collapsed": false
   },
   "source": [
    "Distribucion uniforme:"
   ]
  },
  {
   "cell_type": "code",
   "execution_count": 15,
   "metadata": {
    "collapsed": true
   },
   "outputs": [],
   "source": [
    "def uniforme(a,b,x0):\n",
    "    ui,x0 = congruencial(x0)\n",
    "    uni = a + ui*(b-a)     \n",
    "    return uni,x0"
   ]
  },
  {
   "cell_type": "markdown",
   "metadata": {},
   "source": [
    "Metodo promedio:"
   ]
  },
  {
   "cell_type": "code",
   "execution_count": 16,
   "metadata": {
    "collapsed": true
   },
   "outputs": [],
   "source": [
    "def promedio(lista):\n",
    "    sum=0.0\n",
    "    for i in range(0,len(lista)):\n",
    "        sum=sum+lista[i]\n",
    "        return sum/len(lista)"
   ]
  },
  {
   "cell_type": "code",
   "execution_count": 17,
   "metadata": {
    "collapsed": false
   },
   "outputs": [
    {
     "name": "stdout",
     "output_type": "stream",
     "text": [
      "Bank renege\n",
      " 0.0000 Customer00: Here I am\n",
      " 0.0000 Customer00: Waited  0.000\n",
      " 2.9081 Customer01: Here I am\n",
      " 3.4898 Customer00: Finished\n",
      " 3.4898 Customer01: Waited  0.582\n",
      " 3.8307 Customer02: Here I am\n",
      " 4.5968 Customer01: Finished\n",
      " 4.5968 Customer02: Waited  0.766\n",
      "12.4411 Customer03: Here I am\n",
      "13.4411 Customer03: RENEGED after  1.000\n",
      "14.9294 Customer02: Finished\n",
      "14.9586 Customer04: Here I am\n",
      "14.9586 Customer04: Waited  0.000\n",
      "17.9795 Customer04: Finished\n",
      "El numero De clientes es = 5\n",
      "El numero De clientes atendidos es = 4\n",
      "El numero De clientes que abandonaron la cola es = 1\n",
      "# de personas en la fila: \n",
      "[1, 0, 1, 0, 1, 0, 1, 0]\n",
      "# de personas promedio en fila: \n",
      "1.0\n"
     ]
    }
   ],
   "source": [
    "import random\n",
    "import simpy\n",
    "\n",
    "RANDOM_SEED = 42\n",
    "x0uniform =RANDOM_SEED\n",
    "x0expon  = RANDOM_SEED\n",
    "\n",
    "\n",
    "NEW_CUSTOMERS = 5  # Total number of customers - Número total de clientes\n",
    "INTERVAL_CUSTOMERS = 10.0  # Generate new customers roughly every x seconds -Generar nuevos clientes aproximadamente cada x segundos\n",
    "MIN_PATIENCE = 1  # Min. customer patience - Mini. paciencia de los clientes\n",
    "MAX_PATIENCE = 3  # Max. customer patience - Max. paciencia de los clientes\n",
    "\n",
    "numeroDeClientes = 0\n",
    "numeroClientesAtendidos = 0\n",
    "numeroClientesAbandonaron = 0\n",
    "tiempoPromedioEspera = 0\n",
    "tamanoPromedioFila = []\n",
    "def source(env, number, interval, counter):\n",
    "    \"\"\"Source generates customers randomly\"\"\"\n",
    "    x0 = RANDOM_SEED\n",
    "    for i in range(number):\n",
    "        c = customer(env,'Customer%02d' % i, counter, time_in_bank=12.0)\n",
    "        env.process(c) \n",
    "        ex,x0 =exponencial((1.0/interval),x0)\n",
    "        t = ex\n",
    "        yield env.timeout(t)\n",
    "    print('El numero De clientes es = %d'%(numeroDeClientes))\n",
    "    print('El numero De clientes atendidos es = %d'%(numeroClientesAtendidos))\n",
    "    print('El numero De clientes que abandonaron la cola es = %d'%(numeroClientesAbandonaron))\n",
    "    print('# de personas en la fila: ')\n",
    "    print(tamanoPromedioFila)\n",
    "    prom = promedio(tamanoPromedioFila)\n",
    "    print('# de personas promedio en fila: ')\n",
    "    prom =  math.ceil(prom)\n",
    "    print(prom)\n",
    "\n",
    "def customer(env, name, counter, time_in_bank):\n",
    "    global x0expon\n",
    "    global x0uniform\n",
    "    global numeroDeClientes \n",
    "    global numeroClientesAtendidos\n",
    "    global numeroClientesAbandonaron\n",
    "    global tamanoPromedioFila\n",
    "  \n",
    "    \"\"\"Customer arrives, is served and leaves.\"\"\"\n",
    "    arrive = env.now\n",
    "    print('%7.4f %s: Here I am' % (arrive, name))\n",
    "    numeroDeClientes +=1\n",
    "    with counter.request() as req:\n",
    "        patience,x0uniform = uniforme(MIN_PATIENCE,MIN_PATIENCE,x0uniform)\n",
    "        # Wait for the counter or abort at the end of our tether\n",
    "        results = yield req | env.timeout(patience)\n",
    "\n",
    "        wait = env.now - arrive\n",
    "\n",
    "        if req in results:\n",
    "            # We got to the counter\n",
    "            print('%7.4f %s: Waited %6.3f' % (env.now, name, wait))\n",
    "            if(len(tamanoPromedioFila)==0):\n",
    "                tamanoPromedioFila.append(1)\n",
    "            else:\n",
    "                tamnuevo = tamanoPromedioFila[len(tamanoPromedioFila)- 1]+1\n",
    "                tamanoPromedioFila.append(tamnuevo)\n",
    "            ex,x0expon = exponencial((1.0/time_in_bank),x0expon)\n",
    "            tib = ex            \n",
    "            yield env.timeout(tib)            \n",
    "            print('%7.4f %s: Finished' % (env.now, name))\n",
    "            tamnuevo = (tamanoPromedioFila[len(tamanoPromedioFila) -1]) -1\n",
    "            tamanoPromedioFila.append(tamnuevo)\n",
    "            \n",
    "            numeroClientesAtendidos += 1\n",
    "        else:\n",
    "            # We reneged\n",
    "            print('%7.4f %s: RENEGED after %6.3f' % (env.now, name, wait))\n",
    "            numeroClientesAbandonaron += 1\n",
    "\n",
    "# Setup and start the simulation\n",
    "print('Bank renege')\n",
    "random.seed(RANDOM_SEED)\n",
    "env = simpy.Environment()\n",
    "\n",
    "# Start processes and run\n",
    "counter = simpy.Resource(env, capacity=1)\n",
    "env.process(source(env, NEW_CUSTOMERS, INTERVAL_CUSTOMERS, counter))\n",
    "env.run()"
   ]
  },
  {
   "cell_type": "code",
   "execution_count": null,
   "metadata": {
    "collapsed": true
   },
   "outputs": [],
   "source": []
  }
 ],
 "metadata": {
  "anaconda-cloud": {},
  "kernelspec": {
   "display_name": "Python [Root]",
   "language": "python",
   "name": "Python [Root]"
  },
  "language_info": {
   "codemirror_mode": {
    "name": "ipython",
    "version": 2
   },
   "file_extension": ".py",
   "mimetype": "text/x-python",
   "name": "python",
   "nbconvert_exporter": "python",
   "pygments_lexer": "ipython2",
   "version": "2.7.12"
  }
 },
 "nbformat": 4,
 "nbformat_minor": 0
}
