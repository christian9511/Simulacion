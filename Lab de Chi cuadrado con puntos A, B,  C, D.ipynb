{
 "cells": [
  {
   "cell_type": "markdown",
   "metadata": {
    "collapsed": true
   },
   "source": [
    "# Chi Cuadrado X^2\n",
    "La prueba χ2 es de bondad de ajuste. Es poco potente, por lo que permite justificar el rechazo de una hipótesis, pero proporciona escaso soporte a su aceptación. El problema de bondad de ajuste se plantea como sigue."
   ]
  },
  {
   "cell_type": "markdown",
   "metadata": {},
   "source": [
    "CHI CUADRADO (X^2)"
   ]
  },
  {
   "cell_type": "code",
   "execution_count": 41,
   "metadata": {
    "collapsed": true
   },
   "outputs": [],
   "source": [
    "%matplotlib inline \n",
    "import numpy as np\n",
    "import math\n",
    "import scipy as sp\n",
    "import matplotlib.pyplot as plt\n",
    "N = 1000\n",
    "\n",
    "def chiCuadrado(K,X):\n",
    "\n",
    "    count, bins, ignored = plt.hist(X, K, normed=False)\n",
    "    plt.plot(bins, np.ones_like(bins), linewidth=4, color='green')\n",
    "    T = 0\n",
    "    for i in count:\n",
    "        e=N/float(K)\n",
    "        T +=((i-e)**2)/e\n",
    "    if T > 124.3:\n",
    "        print 'Rechazada la hipotesis de uniformidad....'\n",
    "    else:\n",
    "        print 'Aceptada la hipotesis de uniformidad...'\n",
    "    print (\"El valor de T es: \")\n",
    "    print (T)"
   ]
  },
  {
   "cell_type": "markdown",
   "metadata": {},
   "source": [
    "RANDU"
   ]
  },
  {
   "cell_type": "code",
   "execution_count": 82,
   "metadata": {
    "collapsed": false
   },
   "outputs": [],
   "source": [
    "def randu(X,P):\n",
    "    r = []\n",
    "    for i in range(P):\n",
    "        X=(65539*X)%(2**31)\n",
    "        r.append(float(X)/(2**31))\n",
    "    return r\n",
    "    X = randu(43562, N)"
   ]
  },
  {
   "cell_type": "code",
   "execution_count": 83,
   "metadata": {
    "collapsed": false
   },
   "outputs": [
    {
     "name": "stdout",
     "output_type": "stream",
     "text": [
      "Aceptada la hipotesis de uniformidad...\n",
      "El valor de T es: \n",
      "121.908\n"
     ]
    },
    {
     "data": {
      "image/png": "[encoded data removed]",
      "text/plain": [
       "<matplotlib.figure.Figure at 0x8469710>"
      ]
     },
     "metadata": {},
     "output_type": "display_data"
    }
   ],
   "source": [
    "chiCuadrado(101,X)"
   ]
  },
  {
   "cell_type": "markdown",
   "metadata": {},
   "source": [
    "SINCLAIR"
   ]
  },
  {
   "cell_type": "code",
   "execution_count": 72,
   "metadata": {
    "collapsed": false
   },
   "outputs": [],
   "source": [
    "def gSinclair(X, P):\n",
    "    r = []\n",
    "    for i in range(P):\n",
    "        X=(75*X)%((2**16)+1)\n",
    "        r.append(float(X)/((2**16)+1))\n",
    "    return r\n",
    "    s = gSinclair(43562, N)"
   ]
  },
  {
   "cell_type": "code",
   "execution_count": 73,
   "metadata": {
    "collapsed": false
   },
   "outputs": [
    {
     "name": "stdout",
     "output_type": "stream",
     "text": [
      "Aceptada la hipotesis de uniformidad...\n",
      "El valor de T es: \n",
      "92.618\n"
     ]
    },
    {
     "data": {
      "image/png": "[encoded data removed]",
      "text/plain": [
       "<matplotlib.figure.Figure at 0x77423c8>"
      ]
     },
     "metadata": {},
     "output_type": "display_data"
    }
   ],
   "source": [
    "chiCuadrado(101,s)"
   ]
  },
  {
   "cell_type": "markdown",
   "metadata": {},
   "source": [
    "NUMERICAL RECIEPES"
   ]
  },
  {
   "cell_type": "code",
   "execution_count": 74,
   "metadata": {
    "collapsed": true
   },
   "outputs": [],
   "source": [
    "def numericalReciepies(X,P):\n",
    "    r = []\n",
    "    for i in range(P):\n",
    "        X=(1664525*X+1013904223)%(2**32)\n",
    "        r.append(float(X)/2**32)\n",
    "    return r\n",
    "    re = numericalReciepies(43562, N)"
   ]
  },
  {
   "cell_type": "code",
   "execution_count": 75,
   "metadata": {
    "collapsed": false
   },
   "outputs": [
    {
     "name": "stdout",
     "output_type": "stream",
     "text": [
      "Aceptada la hipotesis de uniformidad...\n",
      "El valor de T es: \n",
      "101.304\n"
     ]
    },
    {
     "data": {
      "image/png": "[encoded data removed]",
      "text/plain": [
       "<matplotlib.figure.Figure at 0x83c0f28>"
      ]
     },
     "metadata": {},
     "output_type": "display_data"
    }
   ],
   "source": [
    "chiCuadrado(101,re)"
   ]
  },
  {
   "cell_type": "markdown",
   "metadata": {},
   "source": [
    "BORLAND C/C++"
   ]
  },
  {
   "cell_type": "code",
   "execution_count": 80,
   "metadata": {
    "collapsed": true
   },
   "outputs": [],
   "source": [
    "def borland(X,P):\n",
    "    r = []\n",
    "    for i in range(P):\n",
    "        X=(22695477*X+1)%(2**32)\n",
    "        r.append(float(X)/2**32)\n",
    "    return r\n",
    "b=borland(43567, N)"
   ]
  },
  {
   "cell_type": "code",
   "execution_count": 81,
   "metadata": {
    "collapsed": false
   },
   "outputs": [
    {
     "name": "stdout",
     "output_type": "stream",
     "text": [
      "Aceptada la hipotesis de uniformidad...\n",
      "El valor de T es: \n",
      "93.426\n"
     ]
    },
    {
     "data": {
      "image/png": "[encoded data removed]",
      "text/plain": [
       "<matplotlib.figure.Figure at 0x64dbac8>"
      ]
     },
     "metadata": {},
     "output_type": "display_data"
    }
   ],
   "source": [
    "chiCuadrado(101,b)"
   ]
  }
 ],
 "metadata": {
  "anaconda-cloud": {},
  "kernelspec": {
   "display_name": "Python [Root]",
   "language": "python",
   "name": "Python [Root]"
  },
  "language_info": {
   "codemirror_mode": {
    "name": "ipython",
    "version": 2
   },
   "file_extension": ".py",
   "mimetype": "text/x-python",
   "name": "python",
   "nbconvert_exporter": "python",
   "pygments_lexer": "ipython2",
   "version": "2.7.12"
  }
 },
 "nbformat": 4,
 "nbformat_minor": 0
}
