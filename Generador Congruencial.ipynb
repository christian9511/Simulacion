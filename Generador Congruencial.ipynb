{
 "cells": [
  {
   "cell_type": "code",
   "execution_count": 15,
   "metadata": {
    "collapsed": false
   },
   "outputs": [
    {
     "name": "stdout",
     "output_type": "stream",
     "text": [
      "0.615384615385\n",
      "0.384615384615\n",
      "0.692307692308\n",
      "0.615384615385\n",
      "0.384615384615\n",
      "0.692307692308\n",
      "0.615384615385\n",
      "0.384615384615\n",
      "0.692307692308\n",
      "0.615384615385\n",
      "0.384615384615\n",
      "0.692307692308\n",
      "0.615384615385\n",
      "0.384615384615\n",
      "0.692307692308\n",
      "0.615384615385\n",
      "0.384615384615\n",
      "0.692307692308\n",
      "0.615384615385\n",
      "0.384615384615\n"
     ]
    },
    {
     "data": {
      "text/plain": [
       "0.38461538461538464"
      ]
     },
     "execution_count": 15,
     "metadata": {},
     "output_type": "execute_result"
    }
   ],
   "source": [
    "def congruencial (X0, n):\n",
    "    a=3\n",
    "    b=7\n",
    "    m=13\n",
    "    Xi=X0\n",
    "    for i in range(n):\n",
    "        Xi = (a * Xi + b) % m\n",
    "        u=(float(Xi)/float(m))\n",
    "        print u\n",
    "    \n",
    "    return u\n",
    "    \n",
    "congruencial(9, 20)"
   ]
  },
  {
   "cell_type": "code",
   "execution_count": null,
   "metadata": {
    "collapsed": true
   },
   "outputs": [],
   "source": []
  },
  {
   "cell_type": "code",
   "execution_count": null,
   "metadata": {
    "collapsed": true
   },
   "outputs": [],
   "source": []
  },
  {
   "cell_type": "code",
   "execution_count": null,
   "metadata": {
    "collapsed": true
   },
   "outputs": [],
   "source": []
  }
 ],
 "metadata": {
  "kernelspec": {
   "display_name": "Python 2",
   "language": "python",
   "name": "python2"
  },
  "language_info": {
   "codemirror_mode": {
    "name": "ipython",
    "version": 2
   },
   "file_extension": ".py",
   "mimetype": "text/x-python",
   "name": "python",
   "nbconvert_exporter": "python",
   "pygments_lexer": "ipython2",
   "version": "2.7.10"
  }
 },
 "nbformat": 4,
 "nbformat_minor": 0
}
