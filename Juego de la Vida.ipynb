{
 "cells": [
  {
   "cell_type": "markdown",
   "metadata": {},
   "source": [
    "# Juego de la vida.\n",
    "\n",
    "El juego de la vida es posiblemente el ejemplo más famoso de autómata celular, es decir, un sistema dinámico que evoluciona en pasos discretos. Actualmente están siendo estudiados en profundidad por Stephen Wolfram y tienen aplicaciones en campos tan diversos como la biología o la economía."
   ]
  },
  {
   "cell_type": "code",
   "execution_count": 1,
   "metadata": {
    "collapsed": false
   },
   "outputs": [
    {
     "name": "stdout",
     "output_type": "stream",
     "text": [
      "Digite las Columnas: 3\n",
      "Digite las filas: 2\n",
      "@ @ \n",
      ". . \n",
      "@ @ \n",
      "Vida: 0 Muerte: 1\n",
      ". . \n",
      ". . \n",
      ". . \n",
      "Vida: 0 Muerte: 4\n",
      ". . \n",
      ". . \n",
      ". . \n",
      "Vida: 0 Muerte: 0\n",
      "Total:  3\n"
     ]
    }
   ],
   "source": [
    "from __future__ import print_function\n",
    "\n",
    "import copy\n",
    "import random\n",
    "import itertools\n",
    "import time\n",
    "import os\n",
    "\n",
    "UNIX = True\n",
    "clear = lambda: os.system('clear') if UNIX else os.system('cls')\n",
    "\n",
    "\n",
    "class juegoDeLaVida(object):\n",
    "\n",
    "    def __init__(self, rows, cols):\n",
    "\n",
    "        self.rows = rows\n",
    "        self.cols = cols\n",
    "        row_life = lambda: [random.randint(0, 1) for n in range(self.cols)]\n",
    "        self.game = [row_life() for n in range(self.rows)]\n",
    "        self.life = 1\n",
    "        self.dead = 1\n",
    "\n",
    "    def __str__(self):\n",
    "\n",
    "        table = ''\n",
    "        for row in self.game:\n",
    "            for cell in row:\n",
    "                table += '@ ' if cell else '. '\n",
    "            table += '\\n'\n",
    "        table += \"Vida: {0} Muerte: {1}\".format(self.life, self.dead)\n",
    "        return table\n",
    "\n",
    "    def evaluate(self, row, col):\n",
    "\n",
    "        distance = list(set(itertools.permutations([-1, -1, 1, 1, 0], 2)))\n",
    "        into_table = lambda x, y: (x in range(self.rows) and y in range(self.cols))\n",
    "        total = 0\n",
    "        for r, c in distance:\n",
    "            if into_table(r + row, c + col):\n",
    "                total += self.game[r + row][c + col]\n",
    "        return total\n",
    "\n",
    "    def test(self):\n",
    "\n",
    "        gameaux = copy.deepcopy(self.game)\n",
    "        self.life = 0\n",
    "        self.dead = 0\n",
    "        for r in range(self.rows):\n",
    "            for c in range(self.cols):\n",
    "                total = self.evaluate(r, c)\n",
    "                if (total < 2 or total > 3) and gameaux[r][c]:\n",
    "                    gameaux[r][c] = 0\n",
    "                    self.dead += 1\n",
    "                elif total == 3 and not gameaux[r][c]:\n",
    "                    gameaux[r][c] = 1\n",
    "                    self.life += 1\n",
    "        self.game = copy.deepcopy(gameaux)\n",
    "\n",
    "rows, cols = int(input(\"Digite las Columnas: \")), int(input(\"Digite las filas: \"))\n",
    "game = juegoDeLaVida(rows, cols)\n",
    "\n",
    "iterations = 0\n",
    "while game.life > 0 or game.dead > 0:\n",
    "    try:\n",
    "        clear()\n",
    "        game.test()\n",
    "        print(game)\n",
    "        time.sleep(1)\n",
    "        iterations += 1\n",
    "    except KeyboardInterrupt:\n",
    "        break\n",
    "print(\"Total: \", iterations)"
   ]
  },
  {
   "cell_type": "code",
   "execution_count": null,
   "metadata": {
    "collapsed": true
   },
   "outputs": [],
   "source": []
  }
 ],
 "metadata": {
  "anaconda-cloud": {},
  "kernelspec": {
   "display_name": "Python [Root]",
   "language": "python",
   "name": "Python [Root]"
  },
  "language_info": {
   "codemirror_mode": {
    "name": "ipython",
    "version": 2
   },
   "file_extension": ".py",
   "mimetype": "text/x-python",
   "name": "python",
   "nbconvert_exporter": "python",
   "pygments_lexer": "ipython2",
   "version": "2.7.12"
  }
 },
 "nbformat": 4,
 "nbformat_minor": 0
}
