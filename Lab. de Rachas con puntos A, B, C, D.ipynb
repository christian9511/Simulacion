{
 "cells": [
  {
   "cell_type": "code",
   "execution_count": 24,
   "metadata": {
    "collapsed": true
   },
   "outputs": [],
   "source": [
    "%matplotlib inline \n",
    "import numpy as np\n",
    "import math\n",
    "import scipy as sp\n",
    "import matplotlib.pyplot as plt\n",
    "N = 1000\n",
    "\n",
    "def tRacha(x):\n",
    "    tRacha=[]\n",
    "    for i in range(len(x)-1):\n",
    "        if x[i] > x[i+1]:\n",
    "            tRacha.append(0)\n",
    "        elif x[i] < x[i+1]:\n",
    "            tRacha.append(1)\n",
    "    R=1 \n",
    "    for i in range(len(tRacha)-1):\n",
    "        if tRacha[i]!=tRacha[i+1]: \n",
    "            R+=1\n",
    "    print (\"Las rachas son: \")\n",
    "    print (R)\n",
    "    \n",
    "    Z = (R - (2*N-1)/float(3))/math.sqrt((16*N-29)/float(90))\n",
    "    \n",
    "    print (\"Valor absoluto de Z ---> |Z|: \")\n",
    "    print (np.absolute(Z))"
   ]
  },
  {
   "cell_type": "markdown",
   "metadata": {},
   "source": [
    "RANDU"
   ]
  },
  {
   "cell_type": "code",
   "execution_count": 25,
   "metadata": {
    "collapsed": true
   },
   "outputs": [],
   "source": [
    "def randu(X,P):\n",
    "    r = []\n",
    "    for i in range(P):\n",
    "        X=(65539*X)%(2**31)\n",
    "        r.append(float(X)/(2**31))\n",
    "    return r\n",
    "    X = randu(43562, N)"
   ]
  },
  {
   "cell_type": "code",
   "execution_count": 30,
   "metadata": {
    "collapsed": false
   },
   "outputs": [
    {
     "name": "stdout",
     "output_type": "stream",
     "text": [
      "Las rachas son: \n",
      "663\n",
      "Valor absoluto de Z ---> |Z|: \n",
      "0.250226870949\n"
     ]
    }
   ],
   "source": [
    "tRacha(x)"
   ]
  },
  {
   "cell_type": "markdown",
   "metadata": {},
   "source": [
    "SINCLAIR"
   ]
  },
  {
   "cell_type": "code",
   "execution_count": 33,
   "metadata": {
    "collapsed": true
   },
   "outputs": [],
   "source": [
    "def gSinclair(X, P):\n",
    "    r = []\n",
    "    for i in range(P):\n",
    "        X=(75*X)%((2**16)+1)\n",
    "        r.append(float(X)/((2**16)+1))\n",
    "    return r\n",
    "    s = gSinclair(43562, N)"
   ]
  },
  {
   "cell_type": "code",
   "execution_count": 34,
   "metadata": {
    "collapsed": false
   },
   "outputs": [
    {
     "name": "stdout",
     "output_type": "stream",
     "text": [
      "Las rachas son: \n",
      "647\n",
      "Valor absoluto de Z ---> |Z|: \n",
      "1.45131585151\n"
     ]
    }
   ],
   "source": [
    "tRacha(s)"
   ]
  },
  {
   "cell_type": "markdown",
   "metadata": {},
   "source": [
    "NUMERICAL RECIEPES"
   ]
  },
  {
   "cell_type": "code",
   "execution_count": 36,
   "metadata": {
    "collapsed": true
   },
   "outputs": [],
   "source": [
    "def numericalReciepies(X,P):\n",
    "    r = []\n",
    "    for i in range(P):\n",
    "        X=(1664525*X+1013904223)%(2**32)\n",
    "        r.append(float(X)/2**32)\n",
    "    return r\n",
    "    x = numericalReciepies(43562, N)"
   ]
  },
  {
   "cell_type": "code",
   "execution_count": 39,
   "metadata": {
    "collapsed": false
   },
   "outputs": [
    {
     "name": "stdout",
     "output_type": "stream",
     "text": [
      "Las rachas son: \n",
      "663\n",
      "Valor absoluto de Z ---> |Z|: \n",
      "0.250226870949\n"
     ]
    }
   ],
   "source": [
    "tRacha(x)"
   ]
  },
  {
   "cell_type": "markdown",
   "metadata": {},
   "source": [
    "BORLAND C/C++"
   ]
  },
  {
   "cell_type": "code",
   "execution_count": 40,
   "metadata": {
    "collapsed": true
   },
   "outputs": [],
   "source": [
    "def borland(X,P):\n",
    "    r = []\n",
    "    for i in range(P):\n",
    "        X=(22695477*X+1)%(2**32)\n",
    "        r.append(float(X)/2**32)\n",
    "    return r\n",
    "b=borland(43567, N)"
   ]
  },
  {
   "cell_type": "code",
   "execution_count": 41,
   "metadata": {
    "collapsed": false
   },
   "outputs": [
    {
     "name": "stdout",
     "output_type": "stream",
     "text": [
      "Las rachas son: \n",
      "661\n",
      "Valor absoluto de Z ---> |Z|: \n",
      "0.400362993519\n"
     ]
    }
   ],
   "source": [
    "tRacha(b)"
   ]
  }
 ],
 "metadata": {
  "kernelspec": {
   "display_name": "Python [Root]",
   "language": "python",
   "name": "Python [Root]"
  },
  "language_info": {
   "codemirror_mode": {
    "name": "ipython",
    "version": 2
   },
   "file_extension": ".py",
   "mimetype": "text/x-python",
   "name": "python",
   "nbconvert_exporter": "python",
   "pygments_lexer": "ipython2",
   "version": "2.7.12"
  }
 },
 "nbformat": 4,
 "nbformat_minor": 0
}
